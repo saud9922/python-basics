{
 "cells": [
  {
   "cell_type": "markdown",
   "id": "2caef386-e92b-49de-946b-2a512dce53e8",
   "metadata": {},
   "source": [
    "Q.1) What is python, and why is it popular?\n",
    "     -> python is a object oriented programming launguage which can be use for web development and data science.\n",
    "     Easy to understand syntax with having a huge number of libaries had made python a very popular and widely use language.\n",
    "\n",
    "Q.2) What is an interpreter in Python?\n",
    "     -> interpreter in python is a program that reads the code.\n",
    "\n",
    "Q.3)  What are pre-defined keywords in Python?\n",
    "     -> pre-defined keywords are some words in python which are reserverd for performing certain actions adn cannot be describe as a variable.\n",
    "     eg: if, else, elif,For,While, etc.\n",
    "     \n",
    "Q.4)  Can keywords be used as variable names?\n",
    "      -> No,keywords cannot be used as variable names.\n",
    "\n",
    "Q.5)  What is mutability in Python?\n",
    "      -> The ability to change the value of an object after it has been created is known as mutability.\n",
    "      eg: list, set, dict\n",
    "\n",
    "Q.6)  Why are lists mutable, but tuples are immutable?\n",
    "      -> The reason behind immutability of tuples is because There are some values which do not need to update means it is a fixed value like  co                  coordinates in a map.\n",
    "\n",
    "Q.7)  What is the difference between “==” and “is” operators in Python?\n",
    "      -> '==' is use to assing a value showing the equality between two things and 'is' is use to point out the memory location alloted to that thing.\n",
    "\n",
    "Q.7)  What are logical operators in Python?\n",
    "      -> AND, OR, NOT are logical operators in Python.\n",
    "      \n",
    "Q.8)  What is type casting in Python?\n",
    "      -> type conversion of data types from int to float or float to int is known as type casting.\n",
    "\n",
    "Q.9)  What is the difference between implicit and explicit type casting \n",
    "       -> implicity type casting is a  method in which if a int() is used for a mathematical function with float() the python will automatically                  convert int() into float() whereas in explicity type cconversion is manual\n",
    "\n",
    "Q.9)  What is the purpose of conditional statements in Python?\n",
    "       -> \"if\" staement use To execute the program only if the conditon is true or continue with 'else'. multiple 'elif' can be use for more contidions\n",
    "          it also include nested if that is a 'if' giving condition inside a 'if'\n",
    "\n",
    "Q.10)  How does the elif statement work?\n",
    "       -> 'elif' is use to describe a condition inside a if which executes only if the above 'if' condition is not met.\n",
    "\n",
    "Q.10)  What is the difference between for and while loops?    \n",
    "       -> For loops is use to iterate in a sequence whether while loop continue to execute the program until the given condition is true.\n",
    "\n",
    "Q.11)  Describe a scenario where a while loop is more suitable than a for loop.\n",
    "       ->     pin = \"\"\n",
    "              device_pin = \"1234\"\n",
    "              while device_pin != pin:\n",
    "                  pin = input(\"enter user password\")\n",
    "                  print(\"logged in\")\n",
    "\n",
    "    \n",
    "        "
   ]
  },
  {
   "cell_type": "code",
   "execution_count": 1,
   "id": "fc63ef52-730d-4890-9371-44f09da4837d",
   "metadata": {},
   "outputs": [
    {
     "name": "stdout",
     "output_type": "stream",
     "text": [
      "Hello, World!\n"
     ]
    }
   ],
   "source": [
    "#practical questions\n",
    "#Q.1) Write a Python program to print \"Hello, World!\"\n",
    "a = \"Hello, World!\"\n",
    "print(a)"
   ]
  },
  {
   "cell_type": "code",
   "execution_count": 3,
   "id": "edfedb69-1d7c-4ef1-924c-07b5a99a73b1",
   "metadata": {},
   "outputs": [
    {
     "name": "stdout",
     "output_type": "stream",
     "text": [
      "age: 23 years\n",
      "name: saud Siddique Mom\n"
     ]
    }
   ],
   "source": [
    " #Q.2) Write a Python program that displays your name and age\n",
    "age = \"23 years\"\n",
    "name = \"saud Siddique Mom\"\n",
    "print(\"age:\",age)\n",
    "print(\"name:\",name)"
   ]
  },
  {
   "cell_type": "code",
   "execution_count": 14,
   "id": "8def986d-ab7d-478e-b8c8-30c8cb875b2a",
   "metadata": {},
   "outputs": [
    {
     "name": "stdout",
     "output_type": "stream",
     "text": [
      "['False', 'None', 'True', 'and', 'as', 'assert', 'async', 'await', 'break', 'class', 'continue', 'def', 'del', 'elif', 'else', 'except', 'finally', 'for', 'from', 'global', 'if', 'import', 'in', 'is', 'lambda', 'nonlocal', 'not', 'or', 'pass', 'raise', 'return', 'try', 'while', 'with', 'yield']\n"
     ]
    }
   ],
   "source": [
    "#Q.3) Write code to print all the pre-defined keywords in Python using the keyword library\n",
    "print(keyword.kwlist)"
   ]
  },
  {
   "cell_type": "code",
   "execution_count": 14,
   "id": "1a422a06-86aa-41a5-889d-10797c14d63d",
   "metadata": {},
   "outputs": [
    {
     "name": "stdin",
     "output_type": "stream",
     "text": [
      "enter a key word l\n"
     ]
    },
    {
     "name": "stdout",
     "output_type": "stream",
     "text": [
      "'l' is not a keyword\n"
     ]
    }
   ],
   "source": [
    "#Q.4)  Write a program that checks if a given word is a Python keyword\n",
    "word = input(\"enter a key word\")\n",
    "if keyword.iskeyword(word):\n",
    "    print(f\"'{word}' is a keyword\")\n",
    "else:\n",
    "    print(f\"'{word}' is not a keyword\")"
   ]
  },
  {
   "cell_type": "code",
   "execution_count": 27,
   "id": "8e2045dd-4156-4237-9a90-e14eb281511a",
   "metadata": {},
   "outputs": [
    {
     "name": "stdout",
     "output_type": "stream",
     "text": [
      "['pineapple', 2, 3, 'apple', 'mango']\n"
     ]
    },
    {
     "ename": "TypeError",
     "evalue": "'tuple' object does not support item assignment",
     "output_type": "error",
     "traceback": [
      "\u001b[1;31m---------------------------------------------------------------------------\u001b[0m",
      "\u001b[1;31mTypeError\u001b[0m                                 Traceback (most recent call last)",
      "Cell \u001b[1;32mIn[27], line 10\u001b[0m\n\u001b[0;32m      7\u001b[0m \u001b[38;5;28mprint\u001b[39m(my_list)\n\u001b[0;32m      9\u001b[0m my_tuple \u001b[38;5;241m=\u001b[39m (\u001b[38;5;241m1\u001b[39m,\u001b[38;5;241m2\u001b[39m,\u001b[38;5;241m3\u001b[39m,\u001b[38;5;124m\"\u001b[39m\u001b[38;5;124mapple\u001b[39m\u001b[38;5;124m\"\u001b[39m,\u001b[38;5;124m\"\u001b[39m\u001b[38;5;124mmango\u001b[39m\u001b[38;5;124m\"\u001b[39m) \u001b[38;5;66;03m#tuples are immutable in nature therefore no change of element can be done \u001b[39;00m\n\u001b[1;32m---> 10\u001b[0m \u001b[43mmy_tuple\u001b[49m\u001b[43m[\u001b[49m\u001b[38;5;241;43m0\u001b[39;49m\u001b[43m]\u001b[49m \u001b[38;5;241m=\u001b[39m \u001b[38;5;124m\"\u001b[39m\u001b[38;5;124mpineapple\u001b[39m\u001b[38;5;124m\"\u001b[39m\n",
      "\u001b[1;31mTypeError\u001b[0m: 'tuple' object does not support item assignment"
     ]
    }
   ],
   "source": [
    "'''\n",
    "Q.5) Create a list and tuple in Python, and demonstrate how attempting to change an element works differently \n",
    "      for each\n",
    "'''\n",
    "my_list = [1,2,3,\"apple\",\"mango\"]\n",
    "my_list[0] = \"pineapple\"\n",
    "print(my_list)\n",
    "\n",
    "my_tuple = (1,2,3,\"apple\",\"mango\") #tuples are immutable in nature therefore no change of element can be done \n",
    "my_tuple[0] = \"pineapple\""
   ]
  },
  {
   "cell_type": "code",
   "execution_count": 36,
   "id": "6a5475fe-5b7f-4cd4-ab1f-dac618c7d3be",
   "metadata": {},
   "outputs": [
    {
     "name": "stdout",
     "output_type": "stream",
     "text": [
      "1\n",
      "[5, 'alex', 'john', 6, 8, 'maria']\n"
     ]
    }
   ],
   "source": [
    "#Q.6)  Write a function to demonstrate the behavior of mutable and immutable arguments\n",
    "def modify(a,b):\n",
    "    a = a + 10\n",
    "    b.append('maria')\n",
    "\n",
    "my_int =  1\n",
    "my_list = [5,\"alex\",\"john\",6,8]\n",
    "\n",
    "modify(my_int,my_list)\n",
    "\n",
    "print(my_int)\n",
    "print(my_list)\n",
    "\n"
   ]
  },
  {
   "cell_type": "code",
   "execution_count": null,
   "id": "438bead5-5e23-4690-bded-aa24be735e6a",
   "metadata": {},
   "outputs": [],
   "source": [
    "#Q.7) (Q.6 is repated)"
   ]
  },
  {
   "cell_type": "code",
   "execution_count": 48,
   "id": "4b8f5bb8-f390-42a5-a028-9e03cba33aa7",
   "metadata": {},
   "outputs": [
    {
     "name": "stdout",
     "output_type": "stream",
     "text": [
      "a and b: False\n",
      "a or b: True\n",
      "not a: False\n",
      "not b: True\n"
     ]
    }
   ],
   "source": [
    "#Q.8) Write a program to demonstrate the use of logical operators\n",
    "a = True\n",
    "b = False\n",
    "\n",
    "print(\"a and b:\", a and b)  \n",
    "print(\"a or b:\", a or b)    \n",
    "print(\"not a:\", not a)      \n",
    "print(\"not b:\", not b)      \n"
   ]
  },
  {
   "cell_type": "code",
   "execution_count": 37,
   "id": "1f7f0ec8-2428-47cd-99dc-81134b64dc3a",
   "metadata": {},
   "outputs": [
    {
     "name": "stdin",
     "output_type": "stream",
     "text": [
      "enter a value:  5\n"
     ]
    },
    {
     "name": "stdout",
     "output_type": "stream",
     "text": [
      "integer: 5\n",
      "float: 5.0\n",
      "boolean: True\n"
     ]
    }
   ],
   "source": [
    "#Q.9) Write a Python program to convert user input from string to integer, float, and boolean types\n",
    "user_input = input(\"enter a value: \")\n",
    "print(\"integer:\",int(user_input))\n",
    "print(\"float:\",float(user_input))\n",
    "print(\"boolean:\",bool(user_input))"
   ]
  },
  {
   "cell_type": "code",
   "execution_count": 47,
   "id": "49d2ae74-2c9c-47fa-9280-e65a25751bb3",
   "metadata": {},
   "outputs": [
    {
     "name": "stdout",
     "output_type": "stream",
     "text": [
      "[1.0, 2.0, 3.0, 4.0, 5.0]\n",
      "[1, 2, 3, 4, 5]\n",
      "[True, True, True, True, True]\n"
     ]
    }
   ],
   "source": [
    "#Q.10) Write code to demonstrate type casting with list elements\n",
    "my_str = ['1','2','3','4','5']\n",
    "float_list = [float(num) for num in my_str]\n",
    "print(float_list)\n",
    "\n",
    "my_str = ['1','2','3','4','5']\n",
    "int_list = [int(num) for num in my_str]\n",
    "print(int_list)\n",
    "\n",
    "my_str = ['1','2','3','4','5']\n",
    "bool_list = [bool(num) for num in my_str]\n",
    "print(bool_list)"
   ]
  },
  {
   "cell_type": "code",
   "execution_count": 45,
   "id": "6ec271f5-0e32-406a-ad32-a66b1019e689",
   "metadata": {},
   "outputs": [
    {
     "name": "stdin",
     "output_type": "stream",
     "text": [
      "enter a number:  -10\n"
     ]
    },
    {
     "name": "stdout",
     "output_type": "stream",
     "text": [
      "The number is negative\n"
     ]
    }
   ],
   "source": [
    "#Q.11) Write a program that checks if a number is positive, negative, or zero\n",
    "number = float(input(\"enter a number: \"))\n",
    "if number > 0:\n",
    "    print(\"the number is positive\")\n",
    "elif number < 0:\n",
    "    print(\"The number is negative\")\n",
    "else:\n",
    "    print(\"the number is zero\")"
   ]
  },
  {
   "cell_type": "code",
   "execution_count": 42,
   "id": "391ad9b9-6df7-45cd-9dbe-a88381966160",
   "metadata": {},
   "outputs": [
    {
     "name": "stdout",
     "output_type": "stream",
     "text": [
      "1\n",
      "2\n",
      "3\n",
      "4\n",
      "5\n",
      "6\n",
      "7\n",
      "8\n",
      "9\n",
      "10\n"
     ]
    }
   ],
   "source": [
    "#Q.12) Write a for loop to print numbers from 1 to 10\n",
    "for i in range(1,11):\n",
    "    print(i)"
   ]
  },
  {
   "cell_type": "code",
   "execution_count": 41,
   "id": "b75d34b1-a32b-4820-bd9b-77aaf467856b",
   "metadata": {},
   "outputs": [
    {
     "name": "stdout",
     "output_type": "stream",
     "text": [
      "sum of all even num is 650\n"
     ]
    }
   ],
   "source": [
    "#Q.13) Write a Python program to find the sum of all even numbers between 1 and 50\n",
    "sum_of_even_no = 0\n",
    "for i in range(2,51,2):\n",
    "    sum_of_even_no += i\n",
    "print(\"sum of all even num is\",sum_of_even_no)"
   ]
  },
  {
   "cell_type": "code",
   "execution_count": 40,
   "id": "bac38983-131d-4e8f-856b-440ab32d0839",
   "metadata": {},
   "outputs": [
    {
     "name": "stdout",
     "output_type": "stream",
     "text": [
      "reversed string is 987654321\n"
     ]
    }
   ],
   "source": [
    "#Q.14) Write a program to reverse a string using a while loop\n",
    "a = \"123456789\"\n",
    "b = \"\"\n",
    "index = len(a)-1 #9\n",
    "while index >= 0:\n",
    "    b += a[index]\n",
    "    index = index - 1\n",
    "print(\"reversed string is\",b)"
   ]
  },
  {
   "cell_type": "code",
   "execution_count": 39,
   "id": "d825d02c-cff9-47c5-a16e-d1c284f37efb",
   "metadata": {},
   "outputs": [
    {
     "name": "stdin",
     "output_type": "stream",
     "text": [
      "enter a number:  5\n"
     ]
    },
    {
     "name": "stdout",
     "output_type": "stream",
     "text": [
      "\n"
     ]
    },
    {
     "data": {
      "text/plain": [
       "120"
      ]
     },
     "execution_count": 39,
     "metadata": {},
     "output_type": "execute_result"
    }
   ],
   "source": [
    "#Q.15) Write a Python program to calculate the factorial of a number provided by the user using a while loop.\n",
    "num = int(input(\"enter a number: \"))\n",
    "factorial_num = 1\n",
    "while num > 1:\n",
    "    factorial_num = factorial_num * num\n",
    "    num = num - 1\n",
    "print()\n",
    "factorial_num"
   ]
  },
  {
   "cell_type": "code",
   "execution_count": null,
   "id": "b53fde91-7622-40f2-837e-d47ef4a0880a",
   "metadata": {},
   "outputs": [],
   "source": []
  }
 ],
 "metadata": {
  "kernelspec": {
   "display_name": "Python 3 (ipykernel)",
   "language": "python",
   "name": "python3"
  },
  "language_info": {
   "codemirror_mode": {
    "name": "ipython",
    "version": 3
   },
   "file_extension": ".py",
   "mimetype": "text/x-python",
   "name": "python",
   "nbconvert_exporter": "python",
   "pygments_lexer": "ipython3",
   "version": "3.13.1"
  }
 },
 "nbformat": 4,
 "nbformat_minor": 5
}
